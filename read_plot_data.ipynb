{
 "cells": [
  {
   "cell_type": "code",
   "execution_count": null,
   "metadata": {},
   "outputs": [],
   "source": [
    "import nibabel as nib\n",
    "import numpy as np\n",
    "import matplotlib.pyplot as plt\n",
    "\n",
    "def get_nii_data(path):\n",
    "    \n",
    "    #==================================\n",
    "    # load image (4D) [X,Y,Z_slice,time]\n",
    "    nii_img  = nib.load(path)\n",
    "    nii_data = nii_img.get_fdata()\n",
    "    print(nii_data.shape)\n",
    "    return nii_data\n",
    "\n",
    "def plot_nii_data(nii_data):\n",
    "    number_of_frames, number_of_slices = 1, 5\n",
    "    fig, ax = plt.subplots(number_of_frames, number_of_slices,constrained_layout=True)\n",
    "    # fig.canvas.set_window_title('4D Nifti Image')\n",
    "    fig.suptitle('4D_Nifti 10 slices 30 time Frames', fontsize=16)\n",
    "    #-------------------------------------------------------------------------------\n",
    "    mng = plt.get_current_fig_manager()\n",
    "    mng.full_screen_toggle()\n",
    "\n",
    "    for slice in range(number_of_slices):\n",
    "        # if your data in 4D, otherwise remove this loop\n",
    "        for frame in range(number_of_frames):\n",
    "            ax[slice].imshow(nii_data[:,:,int(slice / number_of_slices * np.shape(nii_data)[2])],cmap='gray', interpolation=None)\n",
    "            ax[slice].set_title(\"layer {} / frame {}\".format(slice, frame))\n",
    "            ax[slice].axis('off')\n",
    "\n",
    "    plt.show() "
   ]
  },
  {
   "cell_type": "code",
   "execution_count": null,
   "metadata": {},
   "outputs": [],
   "source": [
    "fixed_img = get_nii_data('data/OAS1_0001_MR1/brain.nii.gz')\n",
    "moving_img = get_nii_data('data/OAS1_0002_MR1/brain.nii.gz')\n",
    "warped_img = get_nii_data('result/warped.nii.gz')\n",
    "df_img = get_nii_data('result/df.nii.gz')\n",
    "\n",
    "plot_nii_data(fixed_img)\n",
    "plot_nii_data(warped_img)\n",
    "warped_img_3 = warped_img * df_img[:,:,:,0,2] \n",
    "plot_nii_data(warped_img_3)\n",
    "plot_nii_data(moving_img)\n"
   ]
  }
 ],
 "metadata": {
  "kernelspec": {
   "display_name": "Python 3",
   "language": "python",
   "name": "python3"
  },
  "language_info": {
   "codemirror_mode": {
    "name": "ipython",
    "version": 3
   },
   "file_extension": ".py",
   "mimetype": "text/x-python",
   "name": "python",
   "nbconvert_exporter": "python",
   "pygments_lexer": "ipython3",
   "version": "3.10.6"
  },
  "orig_nbformat": 4
 },
 "nbformat": 4,
 "nbformat_minor": 2
}
